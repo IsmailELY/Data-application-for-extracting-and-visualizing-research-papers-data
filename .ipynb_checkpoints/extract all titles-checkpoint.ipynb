{
 "cells": [
  {
   "cell_type": "code",
   "execution_count": 30,
   "metadata": {},
   "outputs": [],
   "source": [
    "import json\n",
    "import requests"
   ]
  },
  {
   "cell_type": "code",
   "execution_count": 31,
   "metadata": {},
   "outputs": [],
   "source": [
    "def extract_title():\n",
    "    r=requests.get('https://api.osf.io/v2/providers/preprints/africarxiv/preprints/?format=json')\n",
    "    t_list=list()\n",
    "    dict=r.json()\n",
    "    #test dict\n",
    "    flag=0\n",
    "    while True:\n",
    "        for j in range(len(dict[\"data\"])):\n",
    "            t_list.append(dict[\"data\"][j][\"attributes\"][\"title\"])\n",
    "\n",
    "        if flag==1:\n",
    "            break\n",
    "        else:\n",
    "            r=requests.get(dict[\"links\"][\"next\"])\n",
    "            dict=r.json()\n",
    "            if (dict[\"links\"][\"next\"]==None):\n",
    "                flag=1\n",
    "    \n",
    "    return t_list"
   ]
  },
  {
   "cell_type": "code",
   "execution_count": 32,
   "metadata": {
    "scrolled": true
   },
   "outputs": [
    {
     "name": "stdout",
     "output_type": "stream",
     "text": [
      "cette liste contient tous les titres des articles sur Africarxiv\n"
     ]
    },
    {
     "name": "stderr",
     "output_type": "stream",
     "text": [
      "ERROR:root:Internal Python error in the inspect module.\n",
      "Below is the traceback from this internal error.\n",
      "\n"
     ]
    },
    {
     "name": "stdout",
     "output_type": "stream",
     "text": [
      "Traceback (most recent call last):\n",
      "  File \"C:\\Users\\ismai\\Anaconda33\\lib\\site-packages\\IPython\\core\\interactiveshell.py\", line 3267, in run_code\n",
      "    exec(code_obj, self.user_global_ns, self.user_ns)\n",
      "  File \"<ipython-input-32-56a08df1c53e>\", line 2, in <module>\n",
      "    print(\"\\nNombre totale des articles est \",len(extract_title()))\n",
      "  File \"<ipython-input-31-bf76ce917a60>\", line 10, in extract_title\n",
      "    if (dict[\"links\"][\"next\"]==None):\n",
      "KeyboardInterrupt\n",
      "\n",
      "During handling of the above exception, another exception occurred:\n",
      "\n",
      "Traceback (most recent call last):\n",
      "  File \"C:\\Users\\ismai\\Anaconda33\\lib\\site-packages\\IPython\\core\\interactiveshell.py\", line 2018, in showtraceback\n",
      "    stb = value._render_traceback_()\n",
      "AttributeError: 'KeyboardInterrupt' object has no attribute '_render_traceback_'\n",
      "\n",
      "During handling of the above exception, another exception occurred:\n",
      "\n",
      "Traceback (most recent call last):\n",
      "  File \"C:\\Users\\ismai\\Anaconda33\\lib\\site-packages\\IPython\\core\\ultratb.py\", line 1095, in get_records\n",
      "    return _fixed_getinnerframes(etb, number_of_lines_of_context, tb_offset)\n",
      "  File \"C:\\Users\\ismai\\Anaconda33\\lib\\site-packages\\IPython\\core\\ultratb.py\", line 313, in wrapped\n",
      "    return f(*args, **kwargs)\n",
      "  File \"C:\\Users\\ismai\\Anaconda33\\lib\\site-packages\\IPython\\core\\ultratb.py\", line 347, in _fixed_getinnerframes\n",
      "    records = fix_frame_records_filenames(inspect.getinnerframes(etb, context))\n",
      "  File \"C:\\Users\\ismai\\Anaconda33\\lib\\inspect.py\", line 1500, in getinnerframes\n",
      "    frameinfo = (tb.tb_frame,) + getframeinfo(tb, context)\n",
      "  File \"C:\\Users\\ismai\\Anaconda33\\lib\\inspect.py\", line 1458, in getframeinfo\n",
      "    filename = getsourcefile(frame) or getfile(frame)\n",
      "  File \"C:\\Users\\ismai\\Anaconda33\\lib\\inspect.py\", line 696, in getsourcefile\n",
      "    if getattr(getmodule(object, filename), '__loader__', None) is not None:\n",
      "  File \"C:\\Users\\ismai\\Anaconda33\\lib\\inspect.py\", line 732, in getmodule\n",
      "    for modname, module in list(sys.modules.items()):\n",
      "KeyboardInterrupt\n"
     ]
    },
    {
     "ename": "KeyboardInterrupt",
     "evalue": "",
     "output_type": "error",
     "traceback": [
      "\u001b[1;31m---------------------------------------------------------------------------\u001b[0m"
     ]
    }
   ],
   "source": [
    "print(\"cette liste contient tous les titres des articles sur Africarxiv\")\n",
    "print(\"\\nNombre totale des articles est \",len(extract_title()))\n",
    "extract_title()"
   ]
  },
  {
   "cell_type": "code",
   "execution_count": 28,
   "metadata": {},
   "outputs": [],
   "source": [
    "#a function that gives all the information about the author\n",
    "def get_author(title):\n",
    "    r=requests.get('https://api.osf.io/v2/providers/preprints/africarxiv/preprints/?format=json')\n",
    "    dict=r.json()\n",
    "    article=-1\n",
    "    flag=0\n",
    "    \n",
    "    #locate the article first\n",
    "    while True :\n",
    "        for j in range(len(dict[\"data\"])):\n",
    "            if (title==dict[\"data\"][j][\"attributes\"][\"title\"]):\n",
    "                article=j\n",
    "\n",
    "        if article==-1:\n",
    "            r=requests.get(dict[\"links\"][\"next\"])\n",
    "            dict=r.json()\n",
    "            if (dict[\"links\"][\"next\"]==None):\n",
    "                flag=1\n",
    "        \n",
    "        elif flag==1 or article!=-1:\n",
    "            flag=0\n",
    "            break\n",
    "    \n",
    "    #dig into author's information\n",
    "    r=requests.get(dict[\"data\"][article][\"relationships\"][\"contributors\"][\"links\"][\"related\"][\"href\"])\n",
    "    dict=r.json()\n",
    "    var_dict={}\n",
    "    auth_list=[]\n",
    "    \n",
    "    #fetching inside of authors data and that article!=-1 is just a condition to prohibit the programm from entering if he doesn't find the article\n",
    "    while article!=-1:\n",
    "        for i in range(len(dict[\"data\"])):\n",
    "            var_dict[\"id\"]= dict[\"data\"][i][\"embeds\"][\"users\"][\"data\"][\"id\"]\n",
    "            var_dict+=dict[\"data\"][i][\"embeds\"][\"users\"][\"data\"][\"attributes\"]\n",
    "        auth_list.append(var_list)\n",
    "        \n",
    "        if flag==1:\n",
    "            break\n",
    "        else:\n",
    "            r=requests.get(dict[\"links\"][\"next\"])\n",
    "            dict=r.json()\n",
    "            if dict[\"links\"][\"next\"]==None:\n",
    "                flag=1\n",
    "            \n",
    "    return auth_list"
   ]
  },
  {
   "cell_type": "code",
   "execution_count": 29,
   "metadata": {},
   "outputs": [
    {
     "data": {
      "text/plain": [
       "[]"
      ]
     },
     "execution_count": 29,
     "metadata": {},
     "output_type": "execute_result"
    }
   ],
   "source": [
    "get_author(extract_title()[0])"
   ]
  },
  {
   "cell_type": "code",
   "execution_count": null,
   "metadata": {},
   "outputs": [],
   "source": []
  },
  {
   "cell_type": "code",
   "execution_count": null,
   "metadata": {},
   "outputs": [],
   "source": []
  },
  {
   "cell_type": "code",
   "execution_count": null,
   "metadata": {},
   "outputs": [],
   "source": []
  },
  {
   "cell_type": "code",
   "execution_count": null,
   "metadata": {},
   "outputs": [],
   "source": []
  }
 ],
 "metadata": {
  "kernelspec": {
   "display_name": "Python 3",
   "language": "python",
   "name": "python3"
  },
  "language_info": {
   "codemirror_mode": {
    "name": "ipython",
    "version": 3
   },
   "file_extension": ".py",
   "mimetype": "text/x-python",
   "name": "python",
   "nbconvert_exporter": "python",
   "pygments_lexer": "ipython3",
   "version": "3.7.1"
  }
 },
 "nbformat": 4,
 "nbformat_minor": 2
}
