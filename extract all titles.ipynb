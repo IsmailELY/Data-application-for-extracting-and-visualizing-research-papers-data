{
 "cells": [
  {
   "cell_type": "code",
   "execution_count": 30,
   "metadata": {},
   "outputs": [],
   "source": [
    "import json\n",
    "import requests"
   ]
  },
  {
   "cell_type": "code",
   "execution_count": 33,
   "metadata": {},
   "outputs": [],
   "source": [
    "def extract_title():\n",
    "    r=requests.get('https://api.osf.io/v2/providers/preprints/africarxiv/preprints/?format=json')\n",
    "    t_list=list()\n",
    "    dict=r.json()\n",
    "    #test dict\n",
    "    flag=0\n",
    "    while True:\n",
    "        for j in range(len(dict[\"data\"])):\n",
    "            t_list.append(dict[\"data\"][j][\"attributes\"][\"title\"])\n",
    "\n",
    "        if flag==1:\n",
    "            break\n",
    "        else:\n",
    "            r=requests.get(dict[\"links\"][\"next\"])\n",
    "            dict=r.json()\n",
    "            if (dict[\"links\"][\"next\"]==None):\n",
    "                flag=1\n",
    "    \n",
    "    return t_list"
   ]
  },
  {
   "cell_type": "code",
   "execution_count": 34,
   "metadata": {
    "scrolled": true
   },
   "outputs": [
    {
     "name": "stdout",
     "output_type": "stream",
     "text": [
      "cette liste contient tous les titres des articles sur Africarxiv\n",
      "\n",
      "Nombre totale des articles est  41\n"
     ]
    },
    {
     "data": {
      "text/plain": [
       "['Africa joins the growth capital revolution: Examining the growth of venture capital in the continent',\n",
       " 'Deep Convection over Africa: annual cycle, ENSO, and trends in the hotspots',\n",
       " 'The Impact of the National Policy on Education (NPE) on Multilingual Proficiency in Nigeria',\n",
       " 'DISCOVERY ON BEAL CONJECTURE',\n",
       " 'Discovery on Goldbach conjecture',\n",
       " 'Tonal placement in Tashlhiyt: How an intonation system accommodates to adverse phonological environments',\n",
       " 'A local structure of null hypersurfaces of $\\\\mathbb{R}_{1}^{n+1}$',\n",
       " 'A characterization of  minimal ascreen null hypersurfaces of $(LCS)$-space forms',\n",
       " 'Null hypersurfaces evolved by their mean curvature in a Lorentzian manifold',\n",
       " 'Singularities of null mean curvature flow of null hypersurfaces in Lorentzian manifolds',\n",
       " 'On Einstein null hypersurfaces of $(LCS)_{n+2}$-space forms',\n",
       " 'Null hypersurfaces in indefinite  nearly Kaehlerian Finsler spaces',\n",
       " 'Geometry of isoparametric null hypersurfaces of Lorentzian manifolds',\n",
       " 'Some results on null hypersurfaces in $(LCS)$-manifolds',\n",
       " 'Introducing: Second-order permutation',\n",
       " 'High-resolution UAV map reveals erosional patterns and changing topography at Isimila, Tanzania',\n",
       " 'Chemistry on Computers in East Africa – Lesson Plans from Collaborative Exchange',\n",
       " 'Open Science in Africa – Challenges, Opportunities and Perspectives',\n",
       " 'Association between hypertensive disorders of pregnancy and cardiovascular disease in a population of Cameroonian women at two hospitals of yaounde : a case control study',\n",
       " 'Web based Approach to overcome the Market Information Gap between poultry farmers and potential buyers in Tanzania.',\n",
       " 'UX of a Web based platform for market linkage between farmers and buyers in Tanzania',\n",
       " 'Il était une fois les \"humains-monstres\":Grains d\\'histoire d\\'un phénomène venu du fond des âges.',\n",
       " 'Brane Solutions in Supergravity and the Near-Horizon Geometries',\n",
       " \"L'humain difforme vu autrement\",\n",
       " 'Development of a Competitive and Collaborative Platform for Block Diagram and Resistive Circuit Reduction in a Basic Electrical Engineering Course',\n",
       " 'Development of a Module to Teach Basic Concepts of Interfacing and Connectivity in Internet of Things',\n",
       " 'Reflections on the history and legacy of scientific racism in South African palaeoanthropology and beyond',\n",
       " 'Hybridization in human evolution: insights from other organisms',\n",
       " 'Understanding barriers to access and utilization of cervical cancer screening services among women living with HIV in Kyenjojo District, Western Uganda protocol',\n",
       " 'Participants’ accrual and delivery of HIV prevention interventions among men who have sex with men in sub-Saharan Africa: a systematic review',\n",
       " 'Colonialism and narratives of human origins in Asia and Africa',\n",
       " 'The FIRST Classifier: compact and extended radio galaxy classification using deep Convolutional Neural Networks',\n",
       " 'How Does Exposure to Mass Media affect HIV Testing and HIV-Related Knowledge Among Adolescents? Evidence From Uganda',\n",
       " 'Factors Affecting Adoption of Improved Crops by Rural Farmers in Niger',\n",
       " 'Estimating the Impact of School Education on Contraception Use among Adolescents Aged 15–19 in Burkina Faso and Nigeria: Evidence from a Heckman Two-Step Correction Model',\n",
       " 'Towards the Structure of Black Holes in Asymptotically Safe Gravity',\n",
       " 'The emergence of complexity and novelty in the human fossil record',\n",
       " 'Sustaining library automation in Nigerian academic libraries: the KOHA advantage',\n",
       " 'African Neuroscience on the Global Stage: Nigeria as a Model',\n",
       " 'Grossesses en milieu scolaire dans l’arrondissement central de la commune de Tchaourou (Bénin) : niveau, profil des femmes concernées et conséquences en matière de scolarisation',\n",
       " \"Etude des cas de redoublement au primaire dans la commune de Parakou durant l'année scolaire 2016-2017\"]"
      ]
     },
     "execution_count": 34,
     "metadata": {},
     "output_type": "execute_result"
    }
   ],
   "source": [
    "print(\"cette liste contient tous les titres des articles sur Africarxiv\")\n",
    "print(\"\\nNombre totale des articles est \",len(extract_title()))\n",
    "extract_title()"
   ]
  },
  {
   "cell_type": "code",
   "execution_count": 43,
   "metadata": {},
   "outputs": [],
   "source": [
    "#a function that gives all the information about the author\n",
    "def get_author(title):\n",
    "    r=requests.get('https://api.osf.io/v2/providers/preprints/africarxiv/preprints/?format=json')\n",
    "    dict=r.json()\n",
    "    article=-1\n",
    "        \n",
    "    #locate the article first\n",
    "    while True :\n",
    "        for j in range(len(dict[\"data\"])):\n",
    "            if (title==dict[\"data\"][j][\"attributes\"][\"title\"]):\n",
    "                article=j\n",
    "                \n",
    "        if  article!=-1:\n",
    "            break\n",
    "        elif dict[\"links\"][\"next\"]==None:\n",
    "            print(\"article introuvable !\")\n",
    "            break\n",
    "        else:\n",
    "            r=requests.get(dict[\"links\"][\"next\"])\n",
    "            dict=r.json()\n",
    "            \n",
    "        \n",
    "    \n",
    "    #dig into author's information\n",
    "    r=requests.get(dict[\"data\"][article][\"relationships\"][\"contributors\"][\"links\"][\"related\"][\"href\"])\n",
    "    dict=r.json()\n",
    "    var_dict={}\n",
    "    auth_list=[]\n",
    "    \n",
    "    #fetching inside of authors data and that article!=-1 is just a condition to prohibit the programm from entering if he doesn't find the article\n",
    "    while article!=-1:\n",
    "        for i in range(len(dict[\"data\"])):    #filling var_dict with author's data and insert it to the author's list\n",
    "            var_dict.clear()\n",
    "            var_dict[\"id\"]= dict[\"data\"][i][\"embeds\"][\"users\"][\"data\"][\"id\"]\n",
    "            var_dict.update(dict[\"data\"][i][\"embeds\"][\"users\"][\"data\"][\"attributes\"])\n",
    "            auth_list.append(var_dict)\n",
    "        \n",
    "        if dict[\"links\"][\"next\"]==None:\n",
    "            break\n",
    "        else:\n",
    "            r=requests.get(dict[\"links\"][\"next\"])\n",
    "            dict=r.json()\n",
    "            \n",
    "    return auth_list"
   ]
  },
  {
   "cell_type": "code",
   "execution_count": 44,
   "metadata": {},
   "outputs": [
    {
     "data": {
      "text/plain": [
       "[{'id': 'wne4y',\n",
       "  'family_name': 'Osborn',\n",
       "  'suffix': '',\n",
       "  'locale': 'en_US',\n",
       "  'date_registered': '2018-12-03T22:08:33.198846',\n",
       "  'middle_names': 'L',\n",
       "  'given_name': 'Tom',\n",
       "  'full_name': 'Tom  L. Osborn',\n",
       "  'social': {},\n",
       "  'active': True,\n",
       "  'timezone': 'Etc/UTC',\n",
       "  'education': [{'degree': 'Bachelor of Arts',\n",
       "    'startYear': '2016',\n",
       "    'startMonth': 8,\n",
       "    'endMonth': 0,\n",
       "    'endYear': '',\n",
       "    'ongoing': True,\n",
       "    'department': 'Psychology',\n",
       "    'institution': 'Harvard University'}],\n",
       "  'employment': []}]"
      ]
     },
     "execution_count": 44,
     "metadata": {},
     "output_type": "execute_result"
    }
   ],
   "source": [
    "get_author(extract_title()[0])"
   ]
  },
  {
   "cell_type": "code",
   "execution_count": null,
   "metadata": {},
   "outputs": [],
   "source": []
  },
  {
   "cell_type": "code",
   "execution_count": null,
   "metadata": {},
   "outputs": [],
   "source": []
  },
  {
   "cell_type": "code",
   "execution_count": null,
   "metadata": {},
   "outputs": [],
   "source": []
  },
  {
   "cell_type": "code",
   "execution_count": null,
   "metadata": {},
   "outputs": [],
   "source": []
  }
 ],
 "metadata": {
  "kernelspec": {
   "display_name": "Python 3",
   "language": "python",
   "name": "python3"
  },
  "language_info": {
   "codemirror_mode": {
    "name": "ipython",
    "version": 3
   },
   "file_extension": ".py",
   "mimetype": "text/x-python",
   "name": "python",
   "nbconvert_exporter": "python",
   "pygments_lexer": "ipython3",
   "version": "3.7.1"
  }
 },
 "nbformat": 4,
 "nbformat_minor": 2
}
